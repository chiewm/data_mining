{
 "cells": [
  {
   "cell_type": "code",
   "execution_count": 2,
   "metadata": {},
   "outputs": [
    {
     "data": {
      "image/png": "[encoded data removed]",
      "text/plain": [
       "<matplotlib.figure.Figure at 0xee161b7b8>"
      ]
     },
     "metadata": {},
     "output_type": "display_data"
    }
   ],
   "source": [
    "import numpy as np\n",
    "import matplotlib.pyplot as plt\n",
    "import pandas as pd\n",
    "\n",
    "data = pd.read_csv(\"data/sweden.data\", '\\t')\n",
    "data.head()\n",
    "\n",
    "x = data[\"X\"].as_matrix().reshape(-1, 1)\n",
    "Y = data[\"Y\"]\n",
    "temp = []\n",
    "for i in Y:\n",
    "    temp.append(float(i.replace(',','.')))\n",
    "y = np.array(temp).reshape(-1,1)\n",
    "\n",
    "def cost(theta0,theta1,x,y):#构造参数函数  \n",
    "    J=0  \n",
    "    m=len(x)  \n",
    "    for  i in range(m):  \n",
    "        h = theta1 * x[i] + theta0  \n",
    "        J += (h-y[i])**2  \n",
    "    J /= (2*m)  \n",
    "    return J  \n",
    "\n",
    "def partil_cost_theta0(theta0, theta1, x, y):\n",
    "    h = theta0 + theta1 * x\n",
    "    diff = (h - y)\n",
    "    partil = diff.sum()/ (x.shape[0])\n",
    "    return partil\n",
    "\n",
    "def partil_cost_theta1(theta0, theta1, x, y):\n",
    "    h = theta0 + theta1 * x\n",
    "    diff = (h - y) * x\n",
    "    partil = diff.sum()/ (x.shape[0])\n",
    "\n",
    "    return partil\n",
    "\n",
    "\n",
    "theta0s=[]  \n",
    "theta1s=[]  \n",
    "costs=[] \n",
    "\n",
    "def gradient_descent(x, y, alpha=0.001, theta0=0,theta1=0):\n",
    "    max_epoch = 100\n",
    "    counter = 0    \n",
    "    c = cost(theta0,theta1,x, y)\n",
    "    \n",
    "    costs = [c]  \n",
    "    threshhold = 0.000001#低于门限的值认为收敛  \n",
    "    cprev = c + 10  \n",
    "    theta0s=[theta0]  \n",
    "    theta1s=[theta1]  \n",
    "    \n",
    "    while((np.abs(cprev - c) > threshhold) and (counter < max_epoch)):\n",
    "        cprev = c\n",
    "        \n",
    "        update0 = alpha * partil_cost_theta0(theta0,theta1, x, y)\n",
    "        update1 = alpha * partil_cost_theta1(theta0,theta1, x, y)\n",
    "        \n",
    "        theta0 -= update0\n",
    "        theta1 -= update1\n",
    "        \n",
    "        c = cost(theta0,theta1,x,y)    \n",
    "        counter +=1 \n",
    "    \n",
    "    return (theta0,theta1)\n",
    "\n",
    "plt.scatter(x,y)\n",
    "theta0, theta1 = gradient_descent(x, y)\n",
    "p_y = theta0 + theta1 * x\n",
    "plt.plot(x, p_y, 'r')\n",
    "plt.show()"
   ]
  }
 ],
 "metadata": {
  "kernelspec": {
   "display_name": "Python 3",
   "language": "python",
   "name": "python3"
  },
  "language_info": {
   "codemirror_mode": {
    "name": "ipython",
    "version": 3
   },
   "file_extension": ".py",
   "mimetype": "text/x-python",
   "name": "python",
   "nbconvert_exporter": "python",
   "pygments_lexer": "ipython3",
   "version": "3.6.3"
  }
 },
 "nbformat": 4,
 "nbformat_minor": 2
}
